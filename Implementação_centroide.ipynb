{
  "nbformat": 4,
  "nbformat_minor": 0,
  "metadata": {
    "colab": {
      "name": "Implementação_centroide.ipynb",
      "provenance": [],
      "collapsed_sections": [],
      "authorship_tag": "ABX9TyNIGgz9m/ljHHRaIcqOzS2u",
      "include_colab_link": true
    },
    "kernelspec": {
      "name": "python3",
      "display_name": "Python 3"
    }
  },
  "cells": [
    {
      "cell_type": "markdown",
      "metadata": {
        "id": "view-in-github",
        "colab_type": "text"
      },
      "source": [
        "<a href=\"https://colab.research.google.com/github/everluiz/Machine-learning-class/blob/main/Implementa%C3%A7%C3%A3o_centroide.ipynb\" target=\"_parent\"><img src=\"https://colab.research.google.com/assets/colab-badge.svg\" alt=\"Open In Colab\"/></a>"
      ]
    },
    {
      "cell_type": "markdown",
      "metadata": {
        "id": "Dw6B7wDjitrZ"
      },
      "source": [
        "# L05c - Nearest Centroid"
      ]
    },
    {
      "cell_type": "markdown",
      "metadata": {
        "id": "rI3XeCBFi0C5"
      },
      "source": [
        "## Implementation from sklearn"
      ]
    },
    {
      "cell_type": "markdown",
      "metadata": {
        "id": "ykY0Gx4rEMf6"
      },
      "source": [
        "Criação de vetores de treinamento e teste:"
      ]
    },
    {
      "cell_type": "code",
      "metadata": {
        "id": "KpPnEbHTiXdO"
      },
      "source": [
        "from sklearn.neighbors import NearestCentroid\n",
        "import numpy as np\n",
        "\n",
        "X_train = np.array([[-1, -1], [-2, -1], [-3, -2], [1, 1], [2, 1], [3, 2]])\n",
        "y_train = np.array([0, 0, 0, 1, 1, 1])\n",
        "\n",
        "X_test = np.array([[-1, -2], [0, -1], [-3, -3], [2, 2],  [1, 2]])\n",
        "y_test = np.array([0, 0, 0, 1, 1])"
      ],
      "execution_count": null,
      "outputs": []
    },
    {
      "cell_type": "markdown",
      "metadata": {
        "id": "GypahV4fEWJx"
      },
      "source": [
        "chamada da classe que implementa o classificador de NearestCentroid com método de calculo de distância euclidiana\n",
        "\n",
        "e treinamento do modelo"
      ]
    },
    {
      "cell_type": "code",
      "metadata": {
        "id": "-Yy0qiNiifxx",
        "colab": {
          "base_uri": "https://localhost:8080/",
          "height": 51
        },
        "outputId": "4911315a-552e-4962-e248-1d51062dcbd8"
      },
      "source": [
        "cn_model = NearestCentroid(metric='euclidean')\n",
        "cn_model.fit(X_train, y_train)\n",
        "\n",
        "cn_model.centroids_"
      ],
      "execution_count": null,
      "outputs": [
        {
          "output_type": "execute_result",
          "data": {
            "text/plain": [
              "array([[-2.        , -1.33333333],\n",
              "       [ 2.        ,  1.33333333]])"
            ]
          },
          "metadata": {
            "tags": []
          },
          "execution_count": 2
        }
      ]
    },
    {
      "cell_type": "markdown",
      "metadata": {
        "id": "YuOcryhrE02W"
      },
      "source": [
        "Plot dos pontos de treinamento com valor médio (centro de massa) dos pontos:"
      ]
    },
    {
      "cell_type": "code",
      "metadata": {
        "id": "TDG2bxsuiioO",
        "colab": {
          "base_uri": "https://localhost:8080/",
          "height": 282
        },
        "outputId": "55e29c5b-4083-45ce-f796-f08beaad0711"
      },
      "source": [
        "import matplotlib.pyplot as plt\n",
        "\n",
        "plt.scatter(X_train[y_train==0, 0], X_train[y_train==0, 1], c='r')\n",
        "plt.scatter(X_train[y_train==1, 0], X_train[y_train==1, 1], c='g')\n",
        "\n",
        "plt.scatter(cn_model.centroids_[:,0], cn_model.centroids_[:,1], s=200, marker='*', c='k')"
      ],
      "execution_count": null,
      "outputs": [
        {
          "output_type": "execute_result",
          "data": {
            "text/plain": [
              "<matplotlib.collections.PathCollection at 0x7f483e541f98>"
            ]
          },
          "metadata": {
            "tags": []
          },
          "execution_count": 3
        },
        {
          "output_type": "display_data",
          "data": {
            "image/png": "[encoded data removed]",
            "text/plain": [
              "<Figure size 432x288 with 1 Axes>"
            ]
          },
          "metadata": {
            "tags": [],
            "needs_background": "light"
          }
        }
      ]
    },
    {
      "cell_type": "markdown",
      "metadata": {
        "id": "oZFK_vPUFGHK"
      },
      "source": [
        "Predição baseada no treinamento anterior"
      ]
    },
    {
      "cell_type": "code",
      "metadata": {
        "id": "P_MU0XW0ild0",
        "colab": {
          "base_uri": "https://localhost:8080/",
          "height": 51
        },
        "outputId": "d14f9c2a-59d8-4a73-970d-e2634a3e57e2"
      },
      "source": [
        "y_pred = cn_model.predict(X_test)\n",
        "print(y_pred)\n",
        "print(y_test)"
      ],
      "execution_count": null,
      "outputs": [
        {
          "output_type": "stream",
          "text": [
            "[0 0 0 1 1]\n",
            "[0 0 0 1 1]\n"
          ],
          "name": "stdout"
        }
      ]
    },
    {
      "cell_type": "markdown",
      "metadata": {
        "id": "AR5TqajcFKN5"
      },
      "source": [
        "Precisão do modelo:"
      ]
    },
    {
      "cell_type": "code",
      "metadata": {
        "id": "p6auEna9inp8",
        "colab": {
          "base_uri": "https://localhost:8080/",
          "height": 34
        },
        "outputId": "31aadbc0-bcf3-4753-f0f1-ba7c1125c0e8"
      },
      "source": [
        "from sklearn.metrics import accuracy_score\n",
        "\n",
        "print(\"Precisão: \",accuracy_score(y_test, y_pred)*100,\"%\")"
      ],
      "execution_count": null,
      "outputs": [
        {
          "output_type": "stream",
          "text": [
            "Precisão:  100.0 %\n"
          ],
          "name": "stdout"
        }
      ]
    },
    {
      "cell_type": "markdown",
      "metadata": {
        "id": "IvHK8DLtFbaZ"
      },
      "source": [
        "Plot dos pontos de teste com valor médio (centro de massa) dos pontos obtidos no treinamento:"
      ]
    },
    {
      "cell_type": "code",
      "metadata": {
        "id": "vrwLCFV4iqMz",
        "colab": {
          "base_uri": "https://localhost:8080/",
          "height": 282
        },
        "outputId": "a08ec65a-138f-42dd-eeda-8ddd3b230b2f"
      },
      "source": [
        "import matplotlib.pyplot as plt\n",
        "\n",
        "plt.scatter(X_test[y_test==0, 0], X_test[y_test==0, 1], c='r')\n",
        "plt.scatter(X_test[y_test==1, 0], X_test[y_test==1, 1], c='g')\n",
        "\n",
        "plt.scatter(cn_model.centroids_[:,0], cn_model.centroids_[:,1], s=200, marker='*', c='k')"
      ],
      "execution_count": null,
      "outputs": [
        {
          "output_type": "execute_result",
          "data": {
            "text/plain": [
              "<matplotlib.collections.PathCollection at 0x7f483e0337b8>"
            ]
          },
          "metadata": {
            "tags": []
          },
          "execution_count": 6
        },
        {
          "output_type": "display_data",
          "data": {
            "image/png": "[encoded data removed]",
            "text/plain": [
              "<Figure size 432x288 with 1 Axes>"
            ]
          },
          "metadata": {
            "tags": [],
            "needs_background": "light"
          }
        }
      ]
    },
    {
      "cell_type": "markdown",
      "metadata": {
        "id": "KB0E7OMsi3dc"
      },
      "source": [
        "## Implementation from scratch"
      ]
    },
    {
      "cell_type": "markdown",
      "metadata": {
        "id": "uyx8TDUSFuDz"
      },
      "source": [
        "Classe NearestCentroid construida manualmente"
      ]
    },
    {
      "cell_type": "code",
      "metadata": {
        "id": "7uVIi-Woi5AD"
      },
      "source": [
        "class NearestCentroidScratch():\n",
        "  def __init__(self, metric='eucledian'):\n",
        "    self.metric = metric\n",
        "    self.centroids_ = np.array([])\n",
        "    self.labels_ = np.array([])\n",
        "  \n",
        "  def _euclidian_dist(self, a, b): #calcula distância euclidiana\n",
        "    dist = 0.\n",
        "    for i, j in zip(a,b): # percorre tuplas do vetor a[i] e b[j]\n",
        "      dist += ((i-j)**2)  # somatória da diferença entre valores i e j elevado ao quadrado\n",
        "    dist += dist**0.5     # raiz quadrada da somatória\n",
        "    return dist\n",
        "\n",
        "  def fit(self, X, y):\n",
        "      aux = np.unique(y); # lista de todas as classes (labels)\n",
        "      self.labels_ = aux\n",
        "      c1 = np.mean(X[y==aux[0]], axis=0)\n",
        "      self.centroids_ = c1\n",
        "      for i in aux[1:]:\n",
        "        c1 = np.mean(X[y==i], axis=0)\n",
        "        self.centroids_ = np.vstack((self.centroids_, c1))\n",
        "      print(self.centroids_)\n",
        "\n",
        "  def predict(self, X):\n",
        "    predicao = np.zeros(len(X))\n",
        "    aux = 0;    # contador do vetor de teste\n",
        "    for i in X: # percorre o vetor de teste\n",
        "      cont = 0; # contador de labels\n",
        "      dist = self._euclidian_dist(i,self.centroids_[0])\n",
        "      pred = self.labels_[cont]\n",
        "      for j in self.centroids_[1:]: # percorre os centroids\n",
        "        dist2 = self._euclidian_dist(i,j)\n",
        "        if dist2 < dist:            # se distancia entre valor [i] de teste e centroid[j] é menor do que centroid anterior:\n",
        "          dist = dist2              # atualiza a menor distância\n",
        "          cont +=1                  # incrementa o contador de labels\n",
        "          pred = self.labels_[cont] # salva a predição com o label do centroid\n",
        "      predicao[aux] = pred # adiciona ao vetor predicao o label para aquele valor [i] de teste\n",
        "      aux +=1 # incrementa contador do vetor de teste\n",
        "    return predicao"
      ],
      "execution_count": null,
      "outputs": []
    },
    {
      "cell_type": "markdown",
      "metadata": {
        "id": "cw-NiaZIF4le"
      },
      "source": [
        "Criação de vetores de treinamento:"
      ]
    },
    {
      "cell_type": "code",
      "metadata": {
        "id": "dKckiNvMi9cU"
      },
      "source": [
        "import numpy as np\n",
        "\n",
        "X_train = np.array([[-1, -1], [-2, -1], [-3, -2], [1, 1], [2, 1], [3, 2]])\n",
        "y_train = np.array([1, 1, 1, 2, 2, 2])"
      ],
      "execution_count": null,
      "outputs": []
    },
    {
      "cell_type": "markdown",
      "metadata": {
        "id": "asbpobzyF7Bk"
      },
      "source": [
        "chamada da classe com método de calculo de distância euclidiana\n",
        "\n",
        "e treinamento do modelo"
      ]
    },
    {
      "cell_type": "code",
      "metadata": {
        "id": "Pjr5q02kjAO2",
        "colab": {
          "base_uri": "https://localhost:8080/",
          "height": 51
        },
        "outputId": "e070bf0c-ea30-4ef9-931d-4da3f31345dd"
      },
      "source": [
        "clf = NearestCentroidScratch()\n",
        "clf.fit(X_train, y_train)"
      ],
      "execution_count": null,
      "outputs": [
        {
          "output_type": "stream",
          "text": [
            "[[-2.         -1.33333333]\n",
            " [ 2.          1.33333333]]\n"
          ],
          "name": "stdout"
        }
      ]
    },
    {
      "cell_type": "markdown",
      "metadata": {
        "id": "ht0pu77wGO-I"
      },
      "source": [
        "Plot dos pontos de treinamento com valor médio (centro de massa) dos pontos:"
      ]
    },
    {
      "cell_type": "code",
      "metadata": {
        "id": "tPvABYMwNoux",
        "colab": {
          "base_uri": "https://localhost:8080/",
          "height": 282
        },
        "outputId": "c114d4f7-7fb4-4b99-efc3-bf26573062c0"
      },
      "source": [
        "import matplotlib.pyplot as plt\n",
        "\n",
        "plt.scatter(X_train[y_train==1, 0], X_train[y_train==1, 1], c='r')\n",
        "plt.scatter(X_train[y_train==2, 0], X_train[y_train==2, 1], c='g')\n",
        "\n",
        "plt.scatter(clf.centroids_[:,0], clf.centroids_[:,1], s=200, marker='*', c='k')"
      ],
      "execution_count": null,
      "outputs": [
        {
          "output_type": "execute_result",
          "data": {
            "text/plain": [
              "<matplotlib.collections.PathCollection at 0x7f4835e3c470>"
            ]
          },
          "metadata": {
            "tags": []
          },
          "execution_count": 102
        },
        {
          "output_type": "display_data",
          "data": {
            "image/png": "[encoded data removed]",
            "text/plain": [
              "<Figure size 432x288 with 1 Axes>"
            ]
          },
          "metadata": {
            "tags": [],
            "needs_background": "light"
          }
        }
      ]
    },
    {
      "cell_type": "markdown",
      "metadata": {
        "id": "-coiIZt2GUsP"
      },
      "source": [
        "Criação de vetores de teste e Predição baseada no treinamento anterior"
      ]
    },
    {
      "cell_type": "code",
      "metadata": {
        "id": "2J8m1c24vN5r",
        "colab": {
          "base_uri": "https://localhost:8080/",
          "height": 51
        },
        "outputId": "390e27f5-283a-4f43-8838-db68bc0414c1"
      },
      "source": [
        "X_test = np.array([[-1, -2], [0, -1], [-3, -3], [2, 2],  [1, 2], [-1, -1], [5,2], [0,0], [1,0.5]])\n",
        "y_test = np.array([1, 1, 1, 2, 2, 1, 2, 1, 2])\n",
        "\n",
        "y_pred = clf.predict(X_test)\n",
        "print(y_test)\n",
        "print(y_pred)"
      ],
      "execution_count": null,
      "outputs": [
        {
          "output_type": "stream",
          "text": [
            "[1 1 1 2 2 1 2 1 2]\n",
            "[1. 1. 1. 2. 2. 1. 2. 1. 2.]\n"
          ],
          "name": "stdout"
        }
      ]
    },
    {
      "cell_type": "markdown",
      "metadata": {
        "id": "nRGRPEzgGqzJ"
      },
      "source": [
        "Precisão do modelo:"
      ]
    },
    {
      "cell_type": "code",
      "metadata": {
        "id": "pHeRCD1YhFg5",
        "colab": {
          "base_uri": "https://localhost:8080/",
          "height": 34
        },
        "outputId": "80f15006-523b-4c8d-91c4-9917bc8dbc22"
      },
      "source": [
        "from sklearn.metrics import accuracy_score\n",
        "\n",
        "print(\"Precisão: \",accuracy_score(y_test, y_pred)*100,\"%\")"
      ],
      "execution_count": null,
      "outputs": [
        {
          "output_type": "stream",
          "text": [
            "Precisão:  100.0 %\n"
          ],
          "name": "stdout"
        }
      ]
    },
    {
      "cell_type": "markdown",
      "metadata": {
        "id": "wYiEqWkQGu2t"
      },
      "source": [
        "Plot dos pontos de teste com valor médio (centro de massa) dos pontos obtidos no treinamento:"
      ]
    },
    {
      "cell_type": "code",
      "metadata": {
        "id": "--tn9fDuyc80",
        "colab": {
          "base_uri": "https://localhost:8080/",
          "height": 282
        },
        "outputId": "62dc05dc-63d8-45c2-e588-d6a8434b949c"
      },
      "source": [
        "import matplotlib.pyplot as plt\n",
        "\n",
        "\n",
        "plt.scatter(X_test[y_test==1, 0], X_test[y_test==1, 1], c='r')\n",
        "plt.scatter(X_test[y_test==2, 0], X_test[y_test==2, 1], c='g')\n",
        "\n",
        "plt.scatter(clf.centroids_[:,0], clf.centroids_[:,1], s=200, marker='*', c='k')"
      ],
      "execution_count": null,
      "outputs": [
        {
          "output_type": "execute_result",
          "data": {
            "text/plain": [
              "<matplotlib.collections.PathCollection at 0x7f4835f2ac50>"
            ]
          },
          "metadata": {
            "tags": []
          },
          "execution_count": 119
        },
        {
          "output_type": "display_data",
          "data": {
            "image/png": "[encoded data removed]",
            "text/plain": [
              "<Figure size 432x288 with 1 Axes>"
            ]
          },
          "metadata": {
            "tags": [],
            "needs_background": "light"
          }
        }
      ]
    }
  ]
}