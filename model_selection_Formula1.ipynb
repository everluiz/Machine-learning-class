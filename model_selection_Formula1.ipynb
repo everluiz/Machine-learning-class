{
  "nbformat": 4,
  "nbformat_minor": 0,
  "metadata": {
    "colab": {
      "name": "model selection_Formula1.ipynb",
      "provenance": [],
      "collapsed_sections": [],
      "mount_file_id": "1OTzmEbwFFVXMxRhRBSdBlYnF6sRgUhhe",
      "authorship_tag": "ABX9TyPOQC01WJ9fMo/NsdVQ0c5l",
      "include_colab_link": true
    },
    "kernelspec": {
      "name": "python3",
      "display_name": "Python 3"
    }
  },
  "cells": [
    {
      "cell_type": "markdown",
      "metadata": {
        "id": "view-in-github",
        "colab_type": "text"
      },
      "source": [
        "<a href=\"https://colab.research.google.com/github/everluiz/Machine-learning-class/blob/main/model_selection_Formula1.ipynb\" target=\"_parent\"><img src=\"https://colab.research.google.com/assets/colab-badge.svg\" alt=\"Open In Colab\"/></a>"
      ]
    },
    {
      "cell_type": "code",
      "metadata": {
        "id": "z554IaI_qH11",
        "outputId": "bd663a21-4db2-4877-aa5d-0245c7a678e7",
        "colab": {
          "base_uri": "https://localhost:8080/",
          "height": 34
        }
      },
      "source": [
        "import pandas as pd\n",
        "from datetime import datetime\n",
        "import time\n",
        "from sklearn import datasets\n",
        "from sklearn.decomposition import PCA\n",
        "from sklearn.model_selection import GridSearchCV\n",
        "from sklearn.pipeline import Pipeline\n",
        "from sklearn.neighbors import KNeighborsClassifier\n",
        "from sklearn.preprocessing import StandardScaler\n",
        "from sklearn.model_selection import train_test_split\n",
        "\n",
        "from google.colab import drive\n",
        "drive.mount(\"/content/drive\")"
      ],
      "execution_count": null,
      "outputs": [
        {
          "output_type": "stream",
          "text": [
            "Drive already mounted at /content/drive; to attempt to forcibly remount, call drive.mount(\"/content/drive\", force_remount=True).\n"
          ],
          "name": "stdout"
        }
      ]
    },
    {
      "cell_type": "code",
      "metadata": {
        "id": "aJWGg5iWtai6",
        "outputId": "1b0c1d7e-e033-4ff7-aad6-ed367a12c33b",
        "colab": {
          "base_uri": "https://localhost:8080/",
          "height": 197
        }
      },
      "source": [
        "df = pd.read_csv('/content/drive/My Drive/f1.csv')\n",
        "\n",
        "df.head()"
      ],
      "execution_count": null,
      "outputs": [
        {
          "output_type": "execute_result",
          "data": {
            "text/html": [
              "<div>\n",
              "<style scoped>\n",
              "    .dataframe tbody tr th:only-of-type {\n",
              "        vertical-align: middle;\n",
              "    }\n",
              "\n",
              "    .dataframe tbody tr th {\n",
              "        vertical-align: top;\n",
              "    }\n",
              "\n",
              "    .dataframe thead th {\n",
              "        text-align: right;\n",
              "    }\n",
              "</style>\n",
              "<table border=\"1\" class=\"dataframe\">\n",
              "  <thead>\n",
              "    <tr style=\"text-align: right;\">\n",
              "      <th></th>\n",
              "      <th>id</th>\n",
              "      <th>Time-Q1</th>\n",
              "      <th>Time-Q2</th>\n",
              "      <th>Time-Q3</th>\n",
              "      <th>driver</th>\n",
              "      <th>Pos</th>\n",
              "      <th>Year</th>\n",
              "      <th>Races</th>\n",
              "      <th>Fastest Lap</th>\n",
              "      <th>Grid</th>\n",
              "      <th>Team</th>\n",
              "    </tr>\n",
              "  </thead>\n",
              "  <tbody>\n",
              "    <tr>\n",
              "      <th>0</th>\n",
              "      <td>1</td>\n",
              "      <td>1:25.900</td>\n",
              "      <td>1:25.347</td>\n",
              "      <td>1:24.303</td>\n",
              "      <td>Lewis Hamilton</td>\n",
              "      <td>1.0</td>\n",
              "      <td>2020</td>\n",
              "      <td>Silverstone</td>\n",
              "      <td>1:28.689</td>\n",
              "      <td>1</td>\n",
              "      <td>Mercedes</td>\n",
              "    </tr>\n",
              "    <tr>\n",
              "      <th>1</th>\n",
              "      <td>2</td>\n",
              "      <td>1:25.801</td>\n",
              "      <td>1:25.015</td>\n",
              "      <td>1:24.616</td>\n",
              "      <td>Valtteri Bottas</td>\n",
              "      <td>11.0</td>\n",
              "      <td>2020</td>\n",
              "      <td>Silverstone</td>\n",
              "      <td>1:27.097</td>\n",
              "      <td>2</td>\n",
              "      <td>Mercedes</td>\n",
              "    </tr>\n",
              "    <tr>\n",
              "      <th>2</th>\n",
              "      <td>3</td>\n",
              "      <td>1:25.513</td>\n",
              "      <td>1:25.840</td>\n",
              "      <td>1:25.099</td>\n",
              "      <td>Lewis Hamilton</td>\n",
              "      <td>1.0</td>\n",
              "      <td>2019</td>\n",
              "      <td>Silverstone</td>\n",
              "      <td>1:27.369</td>\n",
              "      <td>2</td>\n",
              "      <td>Mercedes</td>\n",
              "    </tr>\n",
              "    <tr>\n",
              "      <th>3</th>\n",
              "      <td>4</td>\n",
              "      <td>1:25.750</td>\n",
              "      <td>1:25.672</td>\n",
              "      <td>1:25.093</td>\n",
              "      <td>Valtteri Bottas</td>\n",
              "      <td>2.0</td>\n",
              "      <td>2019</td>\n",
              "      <td>Silverstone</td>\n",
              "      <td>1:27.406</td>\n",
              "      <td>1</td>\n",
              "      <td>Mercedes</td>\n",
              "    </tr>\n",
              "    <tr>\n",
              "      <th>4</th>\n",
              "      <td>5</td>\n",
              "      <td>1:30.739</td>\n",
              "      <td>1:29.243</td>\n",
              "      <td>1:29.287</td>\n",
              "      <td>Lewis Hamilton</td>\n",
              "      <td>1.0</td>\n",
              "      <td>2016</td>\n",
              "      <td>Silverstone</td>\n",
              "      <td>1:35.771</td>\n",
              "      <td>1</td>\n",
              "      <td>Mercedes</td>\n",
              "    </tr>\n",
              "  </tbody>\n",
              "</table>\n",
              "</div>"
            ],
            "text/plain": [
              "   id   Time-Q1   Time-Q2   Time-Q3  ...        Races  Fastest Lap  Grid      Team\n",
              "0   1  1:25.900  1:25.347  1:24.303  ...  Silverstone     1:28.689     1  Mercedes\n",
              "1   2  1:25.801  1:25.015  1:24.616  ...  Silverstone     1:27.097     2  Mercedes\n",
              "2   3  1:25.513  1:25.840  1:25.099  ...  Silverstone     1:27.369     2  Mercedes\n",
              "3   4  1:25.750  1:25.672  1:25.093  ...  Silverstone     1:27.406     1  Mercedes\n",
              "4   5  1:30.739  1:29.243  1:29.287  ...  Silverstone     1:35.771     1  Mercedes\n",
              "\n",
              "[5 rows x 11 columns]"
            ]
          },
          "metadata": {
            "tags": []
          },
          "execution_count": 289
        }
      ]
    },
    {
      "cell_type": "markdown",
      "metadata": {
        "id": "RutIj127IR0G"
      },
      "source": [
        "Mapeamento dos nomes das equipes de corrida (classes)\n",
        "\n",
        "e mapeando os nomes das caracteristicas pilotos e pistas\n",
        "\n",
        "Eliminação das amostras com valores faltando"
      ]
    },
    {
      "cell_type": "code",
      "metadata": {
        "id": "6E3J-ONgtDcS",
        "outputId": "a7f7aa17-671a-454c-8c7c-edf79625531b",
        "colab": {
          "base_uri": "https://localhost:8080/",
          "height": 197
        }
      },
      "source": [
        "T = {'Mercedes': 0,\n",
        "     'Red Bull': 1,}\n",
        "\n",
        "d = {'Lewis Hamilton': 0,\n",
        "     'Valtteri Bottas': 1,\n",
        "     'Nico Rosberg': 2,\n",
        "     'Max Verstappen': 3,\n",
        "     'Alexander Albon': 4,\n",
        "     'Pierre Gasly': 5,\n",
        "     'Daniel Ricciardo': 6}\n",
        "\n",
        "R = {'Silverstone': 0,\n",
        "     'Austria': 1,\n",
        "     'Barcelona': 2,\n",
        "     'Hungria': 3}\n",
        "     \n",
        "\n",
        "df['Team'] = df['Team'].map(T)\n",
        "df['driver'] = df['driver'].map(d)\n",
        "df['Races'] = df['Races'].map(R)\n",
        "df = df.dropna() # Elimina linhas com NaN (valores faltando)\n",
        "df.head()"
      ],
      "execution_count": null,
      "outputs": [
        {
          "output_type": "execute_result",
          "data": {
            "text/html": [
              "<div>\n",
              "<style scoped>\n",
              "    .dataframe tbody tr th:only-of-type {\n",
              "        vertical-align: middle;\n",
              "    }\n",
              "\n",
              "    .dataframe tbody tr th {\n",
              "        vertical-align: top;\n",
              "    }\n",
              "\n",
              "    .dataframe thead th {\n",
              "        text-align: right;\n",
              "    }\n",
              "</style>\n",
              "<table border=\"1\" class=\"dataframe\">\n",
              "  <thead>\n",
              "    <tr style=\"text-align: right;\">\n",
              "      <th></th>\n",
              "      <th>id</th>\n",
              "      <th>Time-Q1</th>\n",
              "      <th>Time-Q2</th>\n",
              "      <th>Time-Q3</th>\n",
              "      <th>driver</th>\n",
              "      <th>Pos</th>\n",
              "      <th>Year</th>\n",
              "      <th>Races</th>\n",
              "      <th>Fastest Lap</th>\n",
              "      <th>Grid</th>\n",
              "      <th>Team</th>\n",
              "    </tr>\n",
              "  </thead>\n",
              "  <tbody>\n",
              "    <tr>\n",
              "      <th>0</th>\n",
              "      <td>1</td>\n",
              "      <td>1:25.900</td>\n",
              "      <td>1:25.347</td>\n",
              "      <td>1:24.303</td>\n",
              "      <td>0.0</td>\n",
              "      <td>1.0</td>\n",
              "      <td>2020</td>\n",
              "      <td>0</td>\n",
              "      <td>1:28.689</td>\n",
              "      <td>1</td>\n",
              "      <td>0</td>\n",
              "    </tr>\n",
              "    <tr>\n",
              "      <th>2</th>\n",
              "      <td>3</td>\n",
              "      <td>1:25.513</td>\n",
              "      <td>1:25.840</td>\n",
              "      <td>1:25.099</td>\n",
              "      <td>0.0</td>\n",
              "      <td>1.0</td>\n",
              "      <td>2019</td>\n",
              "      <td>0</td>\n",
              "      <td>1:27.369</td>\n",
              "      <td>2</td>\n",
              "      <td>0</td>\n",
              "    </tr>\n",
              "    <tr>\n",
              "      <th>4</th>\n",
              "      <td>5</td>\n",
              "      <td>1:30.739</td>\n",
              "      <td>1:29.243</td>\n",
              "      <td>1:29.287</td>\n",
              "      <td>0.0</td>\n",
              "      <td>1.0</td>\n",
              "      <td>2016</td>\n",
              "      <td>0</td>\n",
              "      <td>1:35.771</td>\n",
              "      <td>1</td>\n",
              "      <td>0</td>\n",
              "    </tr>\n",
              "    <tr>\n",
              "      <th>5</th>\n",
              "      <td>6</td>\n",
              "      <td>1:30.724</td>\n",
              "      <td>1:29.970</td>\n",
              "      <td>1:29.606</td>\n",
              "      <td>2.0</td>\n",
              "      <td>3.0</td>\n",
              "      <td>2016</td>\n",
              "      <td>0</td>\n",
              "      <td>1:35.548</td>\n",
              "      <td>2</td>\n",
              "      <td>0</td>\n",
              "    </tr>\n",
              "    <tr>\n",
              "      <th>6</th>\n",
              "      <td>7</td>\n",
              "      <td>1:04.198</td>\n",
              "      <td>1:03.096</td>\n",
              "      <td>1:02.951</td>\n",
              "      <td>0.0</td>\n",
              "      <td>4.0</td>\n",
              "      <td>2020</td>\n",
              "      <td>1</td>\n",
              "      <td>1:07.712</td>\n",
              "      <td>2</td>\n",
              "      <td>0</td>\n",
              "    </tr>\n",
              "  </tbody>\n",
              "</table>\n",
              "</div>"
            ],
            "text/plain": [
              "   id   Time-Q1   Time-Q2   Time-Q3  ...  Races  Fastest Lap  Grid  Team\n",
              "0   1  1:25.900  1:25.347  1:24.303  ...      0     1:28.689     1     0\n",
              "2   3  1:25.513  1:25.840  1:25.099  ...      0     1:27.369     2     0\n",
              "4   5  1:30.739  1:29.243  1:29.287  ...      0     1:35.771     1     0\n",
              "5   6  1:30.724  1:29.970  1:29.606  ...      0     1:35.548     2     0\n",
              "6   7  1:04.198  1:03.096  1:02.951  ...      1     1:07.712     2     0\n",
              "\n",
              "[5 rows x 11 columns]"
            ]
          },
          "metadata": {
            "tags": []
          },
          "execution_count": 290
        }
      ]
    },
    {
      "cell_type": "markdown",
      "metadata": {
        "id": "qIv1upltIV1v"
      },
      "source": [
        "Matriz X com valores das caracteristicas\n",
        "\n",
        "Vetor Y com os valores das classes\n",
        "\n",
        "loop for para converter strings do tempo dos pilotos para timestamp (float)"
      ]
    },
    {
      "cell_type": "code",
      "metadata": {
        "id": "uA2ZQVj0tqzT"
      },
      "source": [
        "X = df.iloc[:, 1:10].values\n",
        "y = df['Team'].values\n",
        "\n",
        "for i in range(0,len(X[:,])):\n",
        "    dt = datetime.strptime(X[i,0], \"%M:%S.%f\")\n",
        "    X[i,0] = time.mktime(dt.timetuple()) + (dt.microsecond / 1000000.0) # conversão para timestamp\n",
        "    dt = datetime.strptime(X[i,1], \"%M:%S.%f\")\n",
        "    X[i,1] = time.mktime(dt.timetuple()) + (dt.microsecond / 1000000.0) # conversão para timestamp\n",
        "    dt = datetime.strptime(X[i,2], \"%M:%S.%f\")\n",
        "    X[i,2] = time.mktime(dt.timetuple()) + (dt.microsecond / 1000000.0) # conversão para timestamp\n",
        "    dt = datetime.strptime(X[i,7], \"%M:%S.%f\")\n",
        "    X[i,7] = time.mktime(dt.timetuple()) + (dt.microsecond / 1000000.0) # conversão para timestamp\n",
        "    #print(datetime.utcfromtimestamp(X[4,0]).strftime('%M:%S.%f')) # print do tempo"
      ],
      "execution_count": null,
      "outputs": []
    },
    {
      "cell_type": "markdown",
      "metadata": {
        "id": "OBI1merkvalK"
      },
      "source": [
        "dividindo os dados para treino e teste, com 20% das amostras para teste (80% para treino), embaralhando os dados randômicamente e estratificando os grupos de teste e treinamento homogeneamente."
      ]
    },
    {
      "cell_type": "code",
      "metadata": {
        "id": "KL_I8aAPvRzz"
      },
      "source": [
        "X_train, X_test, y_train, y_test = train_test_split(X, y, test_size=0.2, shuffle=True, random_state=123, stratify=y)"
      ],
      "execution_count": null,
      "outputs": []
    },
    {
      "cell_type": "markdown",
      "metadata": {
        "id": "WKmpuSuBIYju"
      },
      "source": [
        "Criando objeto Pipeline:\n",
        "\n",
        "\n",
        "*   standardScaler (normalização com media 0 e desvio padrão 1)\n",
        "*   PCA (redução de dimensionalidade \"3 dimensões\")\n",
        "*   classificador KNN\n",
        "\n",
        "\n"
      ]
    },
    {
      "cell_type": "code",
      "metadata": {
        "id": "dv9tgWH7vqEx"
      },
      "source": [
        "pipe = Pipeline([\n",
        "        ('z-score', StandardScaler()),\n",
        "        ('reduce_dim', PCA(n_components=3)),\n",
        "        ('classify', KNeighborsClassifier(n_neighbors=1))])"
      ],
      "execution_count": null,
      "outputs": []
    },
    {
      "cell_type": "code",
      "metadata": {
        "id": "5IqPzfOevxd6",
        "outputId": "0bc99b14-8784-4ec7-dd57-2399c17767fe",
        "colab": {
          "base_uri": "https://localhost:8080/",
          "height": 247
        }
      },
      "source": [
        "pipe.fit(X_train, y_train)"
      ],
      "execution_count": null,
      "outputs": [
        {
          "output_type": "execute_result",
          "data": {
            "text/plain": [
              "Pipeline(memory=None,\n",
              "         steps=[('z-score',\n",
              "                 StandardScaler(copy=True, with_mean=True, with_std=True)),\n",
              "                ('reduce_dim',\n",
              "                 PCA(copy=True, iterated_power='auto', n_components=3,\n",
              "                     random_state=None, svd_solver='auto', tol=0.0,\n",
              "                     whiten=False)),\n",
              "                ('classify',\n",
              "                 KNeighborsClassifier(algorithm='auto', leaf_size=30,\n",
              "                                      metric='minkowski', metric_params=None,\n",
              "                                      n_jobs=None, n_neighbors=1, p=2,\n",
              "                                      weights='uniform'))],\n",
              "         verbose=False)"
            ]
          },
          "metadata": {
            "tags": []
          },
          "execution_count": 294
        }
      ]
    },
    {
      "cell_type": "markdown",
      "metadata": {
        "id": "qK0oaMPbJ8LG"
      },
      "source": [
        "Teste de acurácia com base de treino"
      ]
    },
    {
      "cell_type": "code",
      "metadata": {
        "id": "G2g1LJDRv1SF",
        "outputId": "47947b0c-b5a7-41a8-c4a2-ccd8578e36ba",
        "colab": {
          "base_uri": "https://localhost:8080/",
          "height": 34
        }
      },
      "source": [
        "from sklearn.metrics import accuracy_score\n",
        "\n",
        "y_train_pred = pipe.predict(X_train)\n",
        "accuracy_score(y_train, y_train_pred)"
      ],
      "execution_count": null,
      "outputs": [
        {
          "output_type": "execute_result",
          "data": {
            "text/plain": [
              "1.0"
            ]
          },
          "metadata": {
            "tags": []
          },
          "execution_count": 295
        }
      ]
    },
    {
      "cell_type": "markdown",
      "metadata": {
        "id": "TChnV0BOKBDx"
      },
      "source": [
        "Teste de acurácia com base de teste"
      ]
    },
    {
      "cell_type": "code",
      "metadata": {
        "id": "hfDgfEVHv3b6",
        "outputId": "cb9f1449-0788-417b-f272-f6fc2e3ffe71",
        "colab": {
          "base_uri": "https://localhost:8080/",
          "height": 34
        }
      },
      "source": [
        "from sklearn.metrics import accuracy_score\n",
        "\n",
        "y_test_pred = pipe.predict(X_test)\n",
        "accuracy_score(y_test, y_test_pred)\n",
        "print(\"Precisão: \",accuracy_score(y_test, y_test_pred)*100,\"%\")"
      ],
      "execution_count": null,
      "outputs": [
        {
          "output_type": "stream",
          "text": [
            "Precisão:  71.42857142857143 %\n"
          ],
          "name": "stdout"
        }
      ]
    },
    {
      "cell_type": "markdown",
      "metadata": {
        "id": "r7nEU2JJKDqN"
      },
      "source": [
        "gridsearch para achar os melhores parâmetros dos componentes"
      ]
    },
    {
      "cell_type": "code",
      "metadata": {
        "id": "KzAtnFJRwMNd",
        "outputId": "cc66d638-a1a5-4778-c69b-a34acd134997",
        "colab": {
          "base_uri": "https://localhost:8080/",
          "height": 461
        }
      },
      "source": [
        "param_grid = {\n",
        "    'reduce_dim__n_components': [1, 2, 3, 4],\n",
        "    'classify__n_neighbors': [2, 3, 4, 5]\n",
        "}\n",
        "\n",
        "grid = GridSearchCV(pipe, cv=2, n_jobs=1, param_grid=param_grid, scoring='accuracy')\n",
        "grid.fit(X_train, y_train)"
      ],
      "execution_count": null,
      "outputs": [
        {
          "output_type": "execute_result",
          "data": {
            "text/plain": [
              "GridSearchCV(cv=2, error_score=nan,\n",
              "             estimator=Pipeline(memory=None,\n",
              "                                steps=[('z-score',\n",
              "                                        StandardScaler(copy=True,\n",
              "                                                       with_mean=True,\n",
              "                                                       with_std=True)),\n",
              "                                       ('reduce_dim',\n",
              "                                        PCA(copy=True, iterated_power='auto',\n",
              "                                            n_components=3, random_state=None,\n",
              "                                            svd_solver='auto', tol=0.0,\n",
              "                                            whiten=False)),\n",
              "                                       ('classify',\n",
              "                                        KNeighborsClassifier(algorithm='auto',\n",
              "                                                             leaf_size=30,\n",
              "                                                             metric='minkowski',\n",
              "                                                             metric_params=None,\n",
              "                                                             n_jobs=None,\n",
              "                                                             n_neighbors=1, p=2,\n",
              "                                                             weights='uniform'))],\n",
              "                                verbose=False),\n",
              "             iid='deprecated', n_jobs=1,\n",
              "             param_grid={'classify__n_neighbors': [2, 3, 4, 5],\n",
              "                         'reduce_dim__n_components': [1, 2, 3, 4]},\n",
              "             pre_dispatch='2*n_jobs', refit=True, return_train_score=False,\n",
              "             scoring='accuracy', verbose=0)"
            ]
          },
          "metadata": {
            "tags": []
          },
          "execution_count": 297
        }
      ]
    },
    {
      "cell_type": "markdown",
      "metadata": {
        "id": "-LpshAE5KVCB"
      },
      "source": [
        "Resultados do gridsearch"
      ]
    },
    {
      "cell_type": "code",
      "metadata": {
        "id": "_Q_NWY_ywdki",
        "outputId": "8cf4c308-4609-4044-9bf1-42987f332995",
        "colab": {
          "base_uri": "https://localhost:8080/",
          "height": 87
        }
      },
      "source": [
        "grid.cv_results_['mean_test_score']"
      ],
      "execution_count": null,
      "outputs": [
        {
          "output_type": "execute_result",
          "data": {
            "text/plain": [
              "array([0.5       , 0.82142857, 0.67857143, 0.64285714, 0.5       ,\n",
              "       0.82142857, 0.85714286, 0.78571429, 0.57142857, 0.82142857,\n",
              "       0.85714286, 0.82142857, 0.64285714, 0.78571429, 0.85714286,\n",
              "       0.71428571])"
            ]
          },
          "metadata": {
            "tags": []
          },
          "execution_count": 298
        }
      ]
    },
    {
      "cell_type": "markdown",
      "metadata": {
        "id": "IDCFhGkdKcUN"
      },
      "source": [
        "melhor resultado, com melhor configuração de parametros PCA e KNN"
      ]
    },
    {
      "cell_type": "code",
      "metadata": {
        "id": "5MaAq3n_wgso",
        "outputId": "5db82c50-cac8-47fd-d8b1-7ead80ab05d2",
        "colab": {
          "base_uri": "https://localhost:8080/",
          "height": 52
        }
      },
      "source": [
        "print(grid.best_score_)\n",
        "print(grid.best_params_)"
      ],
      "execution_count": null,
      "outputs": [
        {
          "output_type": "stream",
          "text": [
            "0.8571428571428572\n",
            "{'classify__n_neighbors': 3, 'reduce_dim__n_components': 3}\n"
          ],
          "name": "stdout"
        }
      ]
    },
    {
      "cell_type": "markdown",
      "metadata": {
        "id": "IrvObfIVKqvN"
      },
      "source": [
        "Teste de acurácia com base de teste:"
      ]
    },
    {
      "cell_type": "code",
      "metadata": {
        "id": "dzswmCPvwmyk",
        "outputId": "3cbf5ee2-bd7e-4200-9436-b6653b3d5012",
        "colab": {
          "base_uri": "https://localhost:8080/",
          "height": 34
        }
      },
      "source": [
        "clf = grid.best_estimator_\n",
        "y_test_pred = clf.predict(X_test)\n",
        "accuracy_score(y_test, y_test_pred)\n",
        "print(\"Precisão: \",accuracy_score(y_test, y_test_pred)*100,\"%\")"
      ],
      "execution_count": null,
      "outputs": [
        {
          "output_type": "stream",
          "text": [
            "Precisão:  71.42857142857143 %\n"
          ],
          "name": "stdout"
        }
      ]
    },
    {
      "cell_type": "markdown",
      "metadata": {
        "id": "L1g7QatUMB-R"
      },
      "source": [
        "Utilizando StratifiedKfold, cria-se indices de treino e teste variados e  estratificados para a mesma base de dados. Para cada conjunto train/test roda-se o pipeline com gridsearch para encontrar o melhor modelo."
      ]
    },
    {
      "cell_type": "code",
      "metadata": {
        "id": "gLMPNq1R4Oi8",
        "outputId": "41852e02-12db-49ca-fa2f-ec87509850a4",
        "colab": {
          "base_uri": "https://localhost:8080/",
          "height": 34
        }
      },
      "source": [
        "from sklearn.model_selection import StratifiedKFold\n",
        "skf = StratifiedKFold(n_splits=6) # objeto stratifiedKfold - n_splits seta a quantidade de conjuntos de treino/teste \n",
        "skf.get_n_splits(X, y)\n",
        "print(skf)"
      ],
      "execution_count": null,
      "outputs": [
        {
          "output_type": "stream",
          "text": [
            "StratifiedKFold(n_splits=6, random_state=None, shuffle=False)\n"
          ],
          "name": "stdout"
        }
      ]
    },
    {
      "cell_type": "code",
      "metadata": {
        "id": "JsF1n5swPpf2",
        "outputId": "2676cd53-4d25-4db4-d96d-72af5751d241",
        "colab": {
          "base_uri": "https://localhost:8080/",
          "height": 336
        }
      },
      "source": [
        "aux = grid # salva o grid anterior\n",
        "for train_index, test_index in skf.split(X, y): # criação de indices \n",
        "  X_train, X_test = X[train_index], X[test_index]\n",
        "  y_train, y_test = y[train_index], y[test_index]\n",
        "\n",
        "  # print(\"TRAIN:\", train_index, \"TEST:\", test_index)\n",
        "  # print(\"X_TRAIN:\", X_train, \"y_TRAIN:\", y_train)\n",
        "\n",
        "  pipe.fit(X_train, y_train)\n",
        "  grid = GridSearchCV(pipe, cv=2, n_jobs=1, param_grid=param_grid, scoring='accuracy')\n",
        "  grid.fit(X_train, y_train)  \n",
        "  print(grid.best_score_)\n",
        "  print(grid.best_params_)\n",
        "  clf = grid.best_estimator_\n",
        "  if grid.best_score_ >= aux.best_score_: #caso encontre um score maior\n",
        "    aux = grid\n",
        "  y_test_pred = clf.predict(X_test)\n",
        "  print(\"score de teste:\",accuracy_score(y_test, y_test_pred))"
      ],
      "execution_count": null,
      "outputs": [
        {
          "output_type": "stream",
          "text": [
            "0.7285714285714285\n",
            "{'classify__n_neighbors': 2, 'reduce_dim__n_components': 2}\n",
            "score de teste: 1.0\n",
            "0.8309523809523809\n",
            "{'classify__n_neighbors': 5, 'reduce_dim__n_components': 2}\n",
            "score de teste: 0.8333333333333334\n",
            "0.7952380952380952\n",
            "{'classify__n_neighbors': 2, 'reduce_dim__n_components': 2}\n",
            "score de teste: 0.8333333333333334\n",
            "0.930952380952381\n",
            "{'classify__n_neighbors': 2, 'reduce_dim__n_components': 3}\n",
            "score de teste: 0.8333333333333334\n",
            "0.8642857142857143\n",
            "{'classify__n_neighbors': 4, 'reduce_dim__n_components': 3}\n",
            "score de teste: 0.8333333333333334\n",
            "0.8333333333333334\n",
            "{'classify__n_neighbors': 2, 'reduce_dim__n_components': 3}\n",
            "score de teste: 1.0\n"
          ],
          "name": "stdout"
        }
      ]
    },
    {
      "cell_type": "code",
      "metadata": {
        "id": "JmXdcD_uPdGp",
        "outputId": "9ea8c40c-e899-469d-939c-bde96908dcd0",
        "colab": {
          "base_uri": "https://localhost:8080/",
          "height": 34
        }
      },
      "source": [
        "y_test_pred = aux.predict(X_test)\n",
        "accuracy_score(y_test, y_test_pred)\n",
        "print(\"Precisão: \",accuracy_score(y_test, y_test_pred)*100,\"%\")"
      ],
      "execution_count": null,
      "outputs": [
        {
          "output_type": "stream",
          "text": [
            "Precisão:  100.0 %\n"
          ],
          "name": "stdout"
        }
      ]
    }
  ]
}